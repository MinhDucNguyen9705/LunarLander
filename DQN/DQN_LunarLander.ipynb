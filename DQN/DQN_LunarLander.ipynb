{
 "cells": [
  {
   "cell_type": "markdown",
   "id": "fd834f1b-51c4-4910-a4d6-3b212e1a2a5a",
   "metadata": {
    "id": "fd834f1b-51c4-4910-a4d6-3b212e1a2a5a"
   },
   "source": [
    "## Deep Q-Network (DQN)\n",
    "---\n",
    "In this notebook, you will implement a DQN agent with OpenAI Gym's LunarLander-v2 environment.\n",
    "\n",
    "### Import the Necessary Packages"
   ]
  },
  {
   "cell_type": "code",
   "execution_count": 1,
   "id": "22518486-3c2f-47fe-92b3-1502875eacfe",
   "metadata": {
    "id": "22518486-3c2f-47fe-92b3-1502875eacfe"
   },
   "outputs": [],
   "source": [
    "import gym\n",
    "import random\n",
    "import torch\n",
    "import torch.nn as nn\n",
    "import torch.nn.functional as F\n",
    "import torch.optim as optim\n",
    "import matplotlib.pyplot as plt\n",
    "import base64, io\n",
    "\n",
    "import numpy as np\n",
    "from collections import deque, namedtuple\n",
    "\n",
    "# For visualization\n",
    "from gym.wrappers.monitoring import video_recorder\n",
    "from IPython.display import HTML\n",
    "from IPython import display\n",
    "import glob"
   ]
  },
  {
   "cell_type": "markdown",
   "id": "f75f934c-6921-43aa-8389-6df4b993eca4",
   "metadata": {
    "id": "f75f934c-6921-43aa-8389-6df4b993eca4"
   },
   "source": [
    "### Instantiate the Environment and Agent\n",
    "\n",
    "Initialize the environment."
   ]
  },
  {
   "cell_type": "code",
   "execution_count": 2,
   "id": "DzTePA9axeje",
   "metadata": {
    "colab": {
     "base_uri": "https://localhost:8080/"
    },
    "id": "DzTePA9axeje",
    "outputId": "4fca5039-5374-49fd-c1e4-c120bd67ea2e"
   },
   "outputs": [],
   "source": [
    "import sys\n",
    "# sys.path.append(r\"c:\\users\\admin\\appdata\\local\\programs\\python\\python311\\lib\\site-packages\")\n",
    "# !pip install gymnasium\n",
    "import gymnasium as gym\n",
    "# !pip install swig\n",
    "# !pip install \"gymnasium[box2d]\""
   ]
  },
  {
   "cell_type": "code",
   "execution_count": 3,
   "id": "594828b6-da33-481d-ab42-041e8c17ffea",
   "metadata": {
    "colab": {
     "base_uri": "https://localhost:8080/"
    },
    "id": "594828b6-da33-481d-ab42-041e8c17ffea",
    "outputId": "56d5f5d1-eb48-4de9-c439-855b6bfd2d4a"
   },
   "outputs": [
    {
     "name": "stdout",
     "output_type": "stream",
     "text": [
      "State shape:  (8,)\n",
      "Number of actions:  4\n"
     ]
    }
   ],
   "source": [
    "env = gym.make('LunarLander-v3')\n",
    "print('State shape: ', env.observation_space.shape)\n",
    "print('Number of actions: ', env.action_space.n)"
   ]
  },
  {
   "cell_type": "markdown",
   "id": "03735bdc-c07e-4c87-b208-cce894bb8e43",
   "metadata": {
    "id": "03735bdc-c07e-4c87-b208-cce894bb8e43"
   },
   "source": [
    "### Define Neural Network Architecture."
   ]
  },
  {
   "cell_type": "code",
   "execution_count": 4,
   "id": "ae834607-433e-4ed5-8b23-8de7b53230a8",
   "metadata": {
    "colab": {
     "base_uri": "https://localhost:8080/"
    },
    "id": "ae834607-433e-4ed5-8b23-8de7b53230a8",
    "outputId": "3d77a814-4171-4dcc-d06f-ca443c147ac7"
   },
   "outputs": [],
   "source": [
    "class QNetwork(nn.Module):\n",
    "    \"\"\"Actor (Policy) Model.\"\"\"\n",
    "\n",
    "    def __init__(self, state_size, action_size, seed):\n",
    "        \"\"\"Initialize parameters and build model.\n",
    "        Params\n",
    "        ======\n",
    "            state_size (int): Dimension of each state #cac thong tin ve state hien tai\n",
    "            action_size (int): Dimension of each action\n",
    "            seed (int): Random seed\n",
    "        \"\"\"\n",
    "        super(QNetwork, self).__init__()\n",
    "        self.seed = torch.manual_seed(seed)\n",
    "        self.fc1 = nn.Linear(state_size, 128)\n",
    "        self.fc2 = nn.Linear(128, 128)\n",
    "        self.fc3 = nn.Linear(128, action_size)\n",
    "\n",
    "    def forward(self, state):\n",
    "        \"\"\"Build a network that maps state -> action values.\"\"\"\n",
    "        x = self.fc1(state)\n",
    "        x = F.relu(x)\n",
    "        x = self.fc2(x)\n",
    "        x = F.relu(x)\n",
    "        return self.fc3(x)\n",
    "    #output: a vector with Q-values"
   ]
  },
  {
   "cell_type": "markdown",
   "id": "b0873298-cab0-4dcb-9c84-4782dc914dd7",
   "metadata": {
    "id": "b0873298-cab0-4dcb-9c84-4782dc914dd7"
   },
   "source": [
    "### Define some hyperparameter"
   ]
  },
  {
   "cell_type": "code",
   "execution_count": 5,
   "id": "7010c525-29d8-445c-8769-6cfb7d00948b",
   "metadata": {
    "id": "7010c525-29d8-445c-8769-6cfb7d00948b"
   },
   "outputs": [],
   "source": [
    "BUFFER_SIZE = int(1e5)  # replay buffer size\n",
    "BATCH_SIZE = 128         # minibatch size\n",
    "GAMMA = 0.99            # discount factor\n",
    "TAU = 1e-3              # for soft update of target parameters\n",
    "LR = 5e-4               # learning rate\n",
    "UPDATE_EVERY = 4        # how often to update the network"
   ]
  },
  {
   "cell_type": "code",
   "execution_count": 6,
   "id": "334bb7d8-7d62-4cfb-96f7-f8809ba8e089",
   "metadata": {
    "id": "334bb7d8-7d62-4cfb-96f7-f8809ba8e089"
   },
   "outputs": [],
   "source": [
    "device = torch.device(\"cuda:0\" if torch.cuda.is_available() else \"cpu\")"
   ]
  },
  {
   "cell_type": "markdown",
   "id": "1d861efe-200c-4690-9698-722abbf0b77c",
   "metadata": {
    "id": "1d861efe-200c-4690-9698-722abbf0b77c"
   },
   "source": [
    "### Define Agent"
   ]
  },
  {
   "cell_type": "code",
   "execution_count": 7,
   "id": "0530f456-2bfd-4061-ad62-f14846a9a284",
   "metadata": {
    "id": "0530f456-2bfd-4061-ad62-f14846a9a284"
   },
   "outputs": [],
   "source": [
    "class Agent():\n",
    "    \"\"\"Interacts with and learns from the environment.\"\"\"\n",
    "\n",
    "    def __init__(self, state_size, action_size, seed):\n",
    "        \"\"\"Initialize an Agent object.\n",
    "\n",
    "        Params\n",
    "        ======\n",
    "            state_size (int): dimension of each state\n",
    "            action_size (int): dimension of each action\n",
    "            seed (int): random seed\n",
    "        \"\"\"\n",
    "        self.state_size = state_size\n",
    "        self.action_size = action_size\n",
    "        self.seed = random.seed(seed)\n",
    "\n",
    "        # Q-Network\n",
    "        self.qnetwork_local = QNetwork(state_size, action_size, seed).to(device)  #update after each step\n",
    "        self.qnetwork_target = QNetwork(state_size, action_size, seed).to(device) #update after few steps\n",
    "        self.optimizer = optim.Adam(self.qnetwork_local.parameters(), lr=LR)\n",
    "\n",
    "        # Replay memory\n",
    "        self.memory = ReplayBuffer(action_size, BUFFER_SIZE, BATCH_SIZE, seed) #tránh phụ thuộc quá nhiều vào các bước gần nhau.\n",
    "        # Initialize time step (for updating every UPDATE_EVERY steps)\n",
    "        self.t_step = 0\n",
    "\n",
    "    def step(self, state, action, reward, next_state, done):\n",
    "        # Save experience in replay memory\n",
    "        self.memory.add(state, action, reward, next_state, done)\n",
    "\n",
    "        # Learn every UPDATE_EVERY time steps.\n",
    "        self.t_step = (self.t_step + 1) % UPDATE_EVERY\n",
    "        if self.t_step == 0:\n",
    "            # If enough samples are available in memory, get random subset and learn\n",
    "            if len(self.memory) > BATCH_SIZE:\n",
    "                experiences = self.memory.sample()\n",
    "                self.learn(experiences, GAMMA)\n",
    "\n",
    "    def act(self, state, eps=0.):\n",
    "        \"\"\"Returns actions for given state as per current policy.\n",
    "\n",
    "        Params\n",
    "        ======\n",
    "            state (array_like): current state\n",
    "            eps (float): epsilon, for epsilon-greedy action selection\n",
    "        \"\"\"\n",
    "        state = torch.from_numpy(state).float().unsqueeze(0).to(device)\n",
    "        self.qnetwork_local.eval()\n",
    "        with torch.no_grad():\n",
    "            action_values = self.qnetwork_local(state)\n",
    "        self.qnetwork_local.train()\n",
    "\n",
    "        # Epsilon-greedy action selection\n",
    "        if random.random() > eps:\n",
    "            return np.argmax(action_values.cpu().data.numpy())\n",
    "        else:\n",
    "            return random.choice(np.arange(self.action_size))\n",
    "\n",
    "    def learn(self, experiences, gamma):\n",
    "        \"\"\"Update value parameters using given batch of experience tuples.\n",
    "\n",
    "        Params\n",
    "        ======\n",
    "            experiences (Tuple[torch.Variable]): tuple of (s, a, r, s', done) tuples\n",
    "            gamma (float): discount factor\n",
    "        \"\"\"\n",
    "        # Obtain random minibatch of tuples from D\n",
    "        states, actions, rewards, next_states, dones = experiences\n",
    "\n",
    "        ## Compute and minimize the loss\n",
    "        ### Extract next maximum estimated value from target network\n",
    "        q_targets_next = self.qnetwork_target(next_states).detach().max(1)[0].unsqueeze(1)\n",
    "        ### Calculate target value from bellman equation\n",
    "        q_targets = rewards + gamma * q_targets_next * (1 - dones)\n",
    "        ### Calculate expected value from local network\n",
    "        q_expected = self.qnetwork_local(states).gather(1, actions)\n",
    "\n",
    "        ### Loss calculation (we used Mean squared error)\n",
    "        loss = F.mse_loss(q_expected, q_targets)\n",
    "        self.optimizer.zero_grad()\n",
    "        loss.backward()\n",
    "        self.optimizer.step()\n",
    "\n",
    "        # ------------------- update target network ------------------- #\n",
    "        self.soft_update(self.qnetwork_local, self.qnetwork_target, TAU)\n",
    "\n",
    "    def soft_update(self, local_model, target_model, tau):\n",
    "        \"\"\"Soft update model parameters.\n",
    "        θ_target = τ*θ_local + (1 - τ)*θ_target\n",
    "\n",
    "        Params\n",
    "        ======\n",
    "            local_model (PyTorch model): weights will be copied from\n",
    "            target_model (PyTorch model): weights will be copied to\n",
    "            tau (float): interpolation parameter\n",
    "        \"\"\"\n",
    "        for target_param, local_param in zip(target_model.parameters(), local_model.parameters()):\n",
    "            target_param.data.copy_(tau*local_param.data + (1.0-tau)*target_param.data)"
   ]
  },
  {
   "cell_type": "markdown",
   "id": "4eb5db66-ecb3-4bf4-aee1-3e18003c17b0",
   "metadata": {
    "id": "4eb5db66-ecb3-4bf4-aee1-3e18003c17b0"
   },
   "source": [
    "### Define Replay Buffer"
   ]
  },
  {
   "cell_type": "code",
   "execution_count": 8,
   "id": "f74bb08e-0b95-42db-9fc8-d609514d55af",
   "metadata": {
    "id": "f74bb08e-0b95-42db-9fc8-d609514d55af"
   },
   "outputs": [],
   "source": [
    "class ReplayBuffer:\n",
    "    \"\"\"Fixed-size buffer to store experience tuples.\"\"\"\n",
    "\n",
    "    def __init__(self, action_size, buffer_size, batch_size, seed):\n",
    "        \"\"\"Initialize a ReplayBuffer object.\n",
    "\n",
    "        Params\n",
    "        ======\n",
    "            action_size (int): dimension of each action\n",
    "            buffer_size (int): maximum size of buffer\n",
    "            batch_size (int): size of each training batch\n",
    "            seed (int): random seed\n",
    "        \"\"\"\n",
    "        self.action_size = action_size\n",
    "        self.memory = deque(maxlen=buffer_size)\n",
    "        self.batch_size = batch_size\n",
    "        self.experience = namedtuple(\"Experience\", field_names=[\"state\", \"action\", \"reward\", \"next_state\", \"done\"])\n",
    "        self.seed = random.seed(seed)\n",
    "\n",
    "    def add(self, state, action, reward, next_state, done):\n",
    "        \"\"\"Add a new experience to memory.\"\"\"\n",
    "        e = self.experience(state, action, reward, next_state, done)\n",
    "        self.memory.append(e)\n",
    "\n",
    "    def sample(self):\n",
    "        \"\"\"Randomly sample a batch of experiences from memory.\"\"\"\n",
    "        experiences = random.sample(self.memory, k=self.batch_size)\n",
    "\n",
    "        states = torch.from_numpy(np.vstack([e.state for e in experiences if e is not None])).float().to(device)\n",
    "        actions = torch.from_numpy(np.vstack([e.action for e in experiences if e is not None])).long().to(device)\n",
    "        rewards = torch.from_numpy(np.vstack([e.reward for e in experiences if e is not None])).float().to(device)\n",
    "        next_states = torch.from_numpy(np.vstack([e.next_state for e in experiences if e is not None])).float().to(device)\n",
    "        dones = torch.from_numpy(np.vstack([e.done for e in experiences if e is not None]).astype(np.uint8)).float().to(device)\n",
    "\n",
    "        return (states, actions, rewards, next_states, dones)\n",
    "\n",
    "    def __len__(self):\n",
    "        \"\"\"Return the current size of internal memory.\"\"\"\n",
    "        return len(self.memory)"
   ]
  },
  {
   "cell_type": "markdown",
   "id": "6bd61b8d-b63e-444f-9cb7-6295df46995d",
   "metadata": {
    "id": "6bd61b8d-b63e-444f-9cb7-6295df46995d"
   },
   "source": [
    "### Training Process"
   ]
  },
  {
   "cell_type": "code",
   "execution_count": 11,
   "id": "c907ab57-ed48-4824-b27c-8c7d707d6919",
   "metadata": {
    "colab": {
     "base_uri": "https://localhost:8080/",
     "height": 532
    },
    "id": "c907ab57-ed48-4824-b27c-8c7d707d6919",
    "outputId": "2879ac94-7650-4bdd-ac0d-1323c1e4bf28"
   },
   "outputs": [
    {
     "name": "stdout",
     "output_type": "stream",
     "text": [
      "Episode 62\tAverage Score: -176.88"
     ]
    },
    {
     "ename": "KeyboardInterrupt",
     "evalue": "",
     "output_type": "error",
     "traceback": [
      "\u001b[1;31m---------------------------------------------------------------------------\u001b[0m",
      "\u001b[1;31mKeyboardInterrupt\u001b[0m                         Traceback (most recent call last)",
      "Cell \u001b[1;32mIn[11], line 41\u001b[0m\n\u001b[0;32m     38\u001b[0m     \u001b[38;5;28;01mreturn\u001b[39;00m scores\n\u001b[0;32m     40\u001b[0m agent \u001b[38;5;241m=\u001b[39m Agent(state_size\u001b[38;5;241m=\u001b[39m\u001b[38;5;241m8\u001b[39m, action_size\u001b[38;5;241m=\u001b[39m\u001b[38;5;241m4\u001b[39m, seed\u001b[38;5;241m=\u001b[39m\u001b[38;5;241m0\u001b[39m)\n\u001b[1;32m---> 41\u001b[0m scores \u001b[38;5;241m=\u001b[39m \u001b[43mdqn\u001b[49m\u001b[43m(\u001b[49m\u001b[43m)\u001b[49m\n",
      "Cell \u001b[1;32mIn[11], line 21\u001b[0m, in \u001b[0;36mdqn\u001b[1;34m(n_episodes, max_t, eps_start, eps_end, eps_decay)\u001b[0m\n\u001b[0;32m     19\u001b[0m score \u001b[38;5;241m=\u001b[39m \u001b[38;5;241m0\u001b[39m\n\u001b[0;32m     20\u001b[0m \u001b[38;5;28;01mfor\u001b[39;00m t \u001b[38;5;129;01min\u001b[39;00m \u001b[38;5;28mrange\u001b[39m(max_t):\n\u001b[1;32m---> 21\u001b[0m     action \u001b[38;5;241m=\u001b[39m \u001b[43magent\u001b[49m\u001b[38;5;241;43m.\u001b[39;49m\u001b[43mact\u001b[49m\u001b[43m(\u001b[49m\u001b[43mstate\u001b[49m\u001b[43m,\u001b[49m\u001b[43m \u001b[49m\u001b[43meps\u001b[49m\u001b[43m)\u001b[49m\n\u001b[0;32m     22\u001b[0m     next_state, reward, done, _, _ \u001b[38;5;241m=\u001b[39m env\u001b[38;5;241m.\u001b[39mstep(action)\n\u001b[0;32m     23\u001b[0m     agent\u001b[38;5;241m.\u001b[39mstep(state, action, reward, next_state, done)\n",
      "Cell \u001b[1;32mIn[9], line 50\u001b[0m, in \u001b[0;36mAgent.act\u001b[1;34m(self, state, eps)\u001b[0m\n\u001b[0;32m     48\u001b[0m \u001b[38;5;28mself\u001b[39m\u001b[38;5;241m.\u001b[39mqnetwork_local\u001b[38;5;241m.\u001b[39meval()\n\u001b[0;32m     49\u001b[0m \u001b[38;5;28;01mwith\u001b[39;00m torch\u001b[38;5;241m.\u001b[39mno_grad():\n\u001b[1;32m---> 50\u001b[0m     action_values \u001b[38;5;241m=\u001b[39m \u001b[38;5;28;43mself\u001b[39;49m\u001b[38;5;241;43m.\u001b[39;49m\u001b[43mqnetwork_local\u001b[49m\u001b[43m(\u001b[49m\u001b[43mstate\u001b[49m\u001b[43m)\u001b[49m\n\u001b[0;32m     51\u001b[0m \u001b[38;5;28mself\u001b[39m\u001b[38;5;241m.\u001b[39mqnetwork_local\u001b[38;5;241m.\u001b[39mtrain()\n\u001b[0;32m     53\u001b[0m \u001b[38;5;66;03m# Epsilon-greedy action selection\u001b[39;00m\n",
      "File \u001b[1;32mc:\\Users\\HP\\AppData\\Local\\Programs\\Python\\Python312\\Lib\\site-packages\\torch\\nn\\modules\\module.py:1553\u001b[0m, in \u001b[0;36mModule._wrapped_call_impl\u001b[1;34m(self, *args, **kwargs)\u001b[0m\n\u001b[0;32m   1551\u001b[0m     \u001b[38;5;28;01mreturn\u001b[39;00m \u001b[38;5;28mself\u001b[39m\u001b[38;5;241m.\u001b[39m_compiled_call_impl(\u001b[38;5;241m*\u001b[39margs, \u001b[38;5;241m*\u001b[39m\u001b[38;5;241m*\u001b[39mkwargs)  \u001b[38;5;66;03m# type: ignore[misc]\u001b[39;00m\n\u001b[0;32m   1552\u001b[0m \u001b[38;5;28;01melse\u001b[39;00m:\n\u001b[1;32m-> 1553\u001b[0m     \u001b[38;5;28;01mreturn\u001b[39;00m \u001b[38;5;28;43mself\u001b[39;49m\u001b[38;5;241;43m.\u001b[39;49m\u001b[43m_call_impl\u001b[49m\u001b[43m(\u001b[49m\u001b[38;5;241;43m*\u001b[39;49m\u001b[43margs\u001b[49m\u001b[43m,\u001b[49m\u001b[43m \u001b[49m\u001b[38;5;241;43m*\u001b[39;49m\u001b[38;5;241;43m*\u001b[39;49m\u001b[43mkwargs\u001b[49m\u001b[43m)\u001b[49m\n",
      "File \u001b[1;32mc:\\Users\\HP\\AppData\\Local\\Programs\\Python\\Python312\\Lib\\site-packages\\torch\\nn\\modules\\module.py:1562\u001b[0m, in \u001b[0;36mModule._call_impl\u001b[1;34m(self, *args, **kwargs)\u001b[0m\n\u001b[0;32m   1557\u001b[0m \u001b[38;5;66;03m# If we don't have any hooks, we want to skip the rest of the logic in\u001b[39;00m\n\u001b[0;32m   1558\u001b[0m \u001b[38;5;66;03m# this function, and just call forward.\u001b[39;00m\n\u001b[0;32m   1559\u001b[0m \u001b[38;5;28;01mif\u001b[39;00m \u001b[38;5;129;01mnot\u001b[39;00m (\u001b[38;5;28mself\u001b[39m\u001b[38;5;241m.\u001b[39m_backward_hooks \u001b[38;5;129;01mor\u001b[39;00m \u001b[38;5;28mself\u001b[39m\u001b[38;5;241m.\u001b[39m_backward_pre_hooks \u001b[38;5;129;01mor\u001b[39;00m \u001b[38;5;28mself\u001b[39m\u001b[38;5;241m.\u001b[39m_forward_hooks \u001b[38;5;129;01mor\u001b[39;00m \u001b[38;5;28mself\u001b[39m\u001b[38;5;241m.\u001b[39m_forward_pre_hooks\n\u001b[0;32m   1560\u001b[0m         \u001b[38;5;129;01mor\u001b[39;00m _global_backward_pre_hooks \u001b[38;5;129;01mor\u001b[39;00m _global_backward_hooks\n\u001b[0;32m   1561\u001b[0m         \u001b[38;5;129;01mor\u001b[39;00m _global_forward_hooks \u001b[38;5;129;01mor\u001b[39;00m _global_forward_pre_hooks):\n\u001b[1;32m-> 1562\u001b[0m     \u001b[38;5;28;01mreturn\u001b[39;00m \u001b[43mforward_call\u001b[49m\u001b[43m(\u001b[49m\u001b[38;5;241;43m*\u001b[39;49m\u001b[43margs\u001b[49m\u001b[43m,\u001b[49m\u001b[43m \u001b[49m\u001b[38;5;241;43m*\u001b[39;49m\u001b[38;5;241;43m*\u001b[39;49m\u001b[43mkwargs\u001b[49m\u001b[43m)\u001b[49m\n\u001b[0;32m   1564\u001b[0m \u001b[38;5;28;01mtry\u001b[39;00m:\n\u001b[0;32m   1565\u001b[0m     result \u001b[38;5;241m=\u001b[39m \u001b[38;5;28;01mNone\u001b[39;00m\n",
      "Cell \u001b[1;32mIn[6], line 20\u001b[0m, in \u001b[0;36mQNetwork.forward\u001b[1;34m(self, state)\u001b[0m\n\u001b[0;32m     18\u001b[0m \u001b[38;5;28;01mdef\u001b[39;00m \u001b[38;5;21mforward\u001b[39m(\u001b[38;5;28mself\u001b[39m, state):\n\u001b[0;32m     19\u001b[0m \u001b[38;5;250m    \u001b[39m\u001b[38;5;124;03m\"\"\"Build a network that maps state -> action values.\"\"\"\u001b[39;00m\n\u001b[1;32m---> 20\u001b[0m     x \u001b[38;5;241m=\u001b[39m \u001b[38;5;28;43mself\u001b[39;49m\u001b[38;5;241;43m.\u001b[39;49m\u001b[43mfc1\u001b[49m\u001b[43m(\u001b[49m\u001b[43mstate\u001b[49m\u001b[43m)\u001b[49m\n\u001b[0;32m     21\u001b[0m     x \u001b[38;5;241m=\u001b[39m F\u001b[38;5;241m.\u001b[39mrelu(x)\n\u001b[0;32m     22\u001b[0m     x \u001b[38;5;241m=\u001b[39m \u001b[38;5;28mself\u001b[39m\u001b[38;5;241m.\u001b[39mfc2(x)\n",
      "File \u001b[1;32mc:\\Users\\HP\\AppData\\Local\\Programs\\Python\\Python312\\Lib\\site-packages\\torch\\nn\\modules\\module.py:1553\u001b[0m, in \u001b[0;36mModule._wrapped_call_impl\u001b[1;34m(self, *args, **kwargs)\u001b[0m\n\u001b[0;32m   1551\u001b[0m     \u001b[38;5;28;01mreturn\u001b[39;00m \u001b[38;5;28mself\u001b[39m\u001b[38;5;241m.\u001b[39m_compiled_call_impl(\u001b[38;5;241m*\u001b[39margs, \u001b[38;5;241m*\u001b[39m\u001b[38;5;241m*\u001b[39mkwargs)  \u001b[38;5;66;03m# type: ignore[misc]\u001b[39;00m\n\u001b[0;32m   1552\u001b[0m \u001b[38;5;28;01melse\u001b[39;00m:\n\u001b[1;32m-> 1553\u001b[0m     \u001b[38;5;28;01mreturn\u001b[39;00m \u001b[38;5;28;43mself\u001b[39;49m\u001b[38;5;241;43m.\u001b[39;49m\u001b[43m_call_impl\u001b[49m\u001b[43m(\u001b[49m\u001b[38;5;241;43m*\u001b[39;49m\u001b[43margs\u001b[49m\u001b[43m,\u001b[49m\u001b[43m \u001b[49m\u001b[38;5;241;43m*\u001b[39;49m\u001b[38;5;241;43m*\u001b[39;49m\u001b[43mkwargs\u001b[49m\u001b[43m)\u001b[49m\n",
      "File \u001b[1;32mc:\\Users\\HP\\AppData\\Local\\Programs\\Python\\Python312\\Lib\\site-packages\\torch\\nn\\modules\\module.py:1562\u001b[0m, in \u001b[0;36mModule._call_impl\u001b[1;34m(self, *args, **kwargs)\u001b[0m\n\u001b[0;32m   1557\u001b[0m \u001b[38;5;66;03m# If we don't have any hooks, we want to skip the rest of the logic in\u001b[39;00m\n\u001b[0;32m   1558\u001b[0m \u001b[38;5;66;03m# this function, and just call forward.\u001b[39;00m\n\u001b[0;32m   1559\u001b[0m \u001b[38;5;28;01mif\u001b[39;00m \u001b[38;5;129;01mnot\u001b[39;00m (\u001b[38;5;28mself\u001b[39m\u001b[38;5;241m.\u001b[39m_backward_hooks \u001b[38;5;129;01mor\u001b[39;00m \u001b[38;5;28mself\u001b[39m\u001b[38;5;241m.\u001b[39m_backward_pre_hooks \u001b[38;5;129;01mor\u001b[39;00m \u001b[38;5;28mself\u001b[39m\u001b[38;5;241m.\u001b[39m_forward_hooks \u001b[38;5;129;01mor\u001b[39;00m \u001b[38;5;28mself\u001b[39m\u001b[38;5;241m.\u001b[39m_forward_pre_hooks\n\u001b[0;32m   1560\u001b[0m         \u001b[38;5;129;01mor\u001b[39;00m _global_backward_pre_hooks \u001b[38;5;129;01mor\u001b[39;00m _global_backward_hooks\n\u001b[0;32m   1561\u001b[0m         \u001b[38;5;129;01mor\u001b[39;00m _global_forward_hooks \u001b[38;5;129;01mor\u001b[39;00m _global_forward_pre_hooks):\n\u001b[1;32m-> 1562\u001b[0m     \u001b[38;5;28;01mreturn\u001b[39;00m \u001b[43mforward_call\u001b[49m\u001b[43m(\u001b[49m\u001b[38;5;241;43m*\u001b[39;49m\u001b[43margs\u001b[49m\u001b[43m,\u001b[49m\u001b[43m \u001b[49m\u001b[38;5;241;43m*\u001b[39;49m\u001b[38;5;241;43m*\u001b[39;49m\u001b[43mkwargs\u001b[49m\u001b[43m)\u001b[49m\n\u001b[0;32m   1564\u001b[0m \u001b[38;5;28;01mtry\u001b[39;00m:\n\u001b[0;32m   1565\u001b[0m     result \u001b[38;5;241m=\u001b[39m \u001b[38;5;28;01mNone\u001b[39;00m\n",
      "File \u001b[1;32mc:\\Users\\HP\\AppData\\Local\\Programs\\Python\\Python312\\Lib\\site-packages\\torch\\nn\\modules\\linear.py:117\u001b[0m, in \u001b[0;36mLinear.forward\u001b[1;34m(self, input)\u001b[0m\n\u001b[0;32m    116\u001b[0m \u001b[38;5;28;01mdef\u001b[39;00m \u001b[38;5;21mforward\u001b[39m(\u001b[38;5;28mself\u001b[39m, \u001b[38;5;28minput\u001b[39m: Tensor) \u001b[38;5;241m-\u001b[39m\u001b[38;5;241m>\u001b[39m Tensor:\n\u001b[1;32m--> 117\u001b[0m     \u001b[38;5;28;01mreturn\u001b[39;00m \u001b[43mF\u001b[49m\u001b[38;5;241;43m.\u001b[39;49m\u001b[43mlinear\u001b[49m\u001b[43m(\u001b[49m\u001b[38;5;28;43minput\u001b[39;49m\u001b[43m,\u001b[49m\u001b[43m \u001b[49m\u001b[38;5;28;43mself\u001b[39;49m\u001b[38;5;241;43m.\u001b[39;49m\u001b[43mweight\u001b[49m\u001b[43m,\u001b[49m\u001b[43m \u001b[49m\u001b[38;5;28;43mself\u001b[39;49m\u001b[38;5;241;43m.\u001b[39;49m\u001b[43mbias\u001b[49m\u001b[43m)\u001b[49m\n",
      "\u001b[1;31mKeyboardInterrupt\u001b[0m: "
     ]
    }
   ],
   "source": [
    "def dqn(n_episodes=2000, max_t=1000, eps_start=1.0, eps_end=0.01, eps_decay=0.995):\n",
    "    \"\"\"Deep Q-Learning.\n",
    "\n",
    "    Params\n",
    "    ======\n",
    "        n_episodes (int): maximum number of training episodes\n",
    "        max_t (int): maximum number of timesteps per episode\n",
    "        eps_start (float): starting value of epsilon, for epsilon-greedy action selection\n",
    "        eps_end (float): minimum value of epsilon\n",
    "        eps_decay (float): multiplicative factor (per episode) for decreasing epsilon\n",
    "    \"\"\"\n",
    "    scores = []                        # list containing scores from each episode\n",
    "    scores_window = deque(maxlen=100)  # last 100 scores\n",
    "    eps = eps_start                    # initialize epsilon\n",
    "    for i_episode in range(1, n_episodes+1):\n",
    "        state = env.reset()\n",
    "        state = np.array(state[0])\n",
    "        state = state.reshape(1, -1)\n",
    "        score = 0\n",
    "        for t in range(max_t):\n",
    "            action = agent.act(state, eps)\n",
    "            next_state, reward, done, _, _ = env.step(action)\n",
    "            agent.step(state, action, reward, next_state, done)\n",
    "            state = next_state\n",
    "            score += reward\n",
    "            if done:\n",
    "                break\n",
    "        scores_window.append(score)       # save most recent score\n",
    "        scores.append(score)              # save most recent score\n",
    "        eps = max(eps_end, eps_decay*eps) # decrease epsilon\n",
    "        print('\\rEpisode {}\\tAverage Score: {:.2f}'.format(i_episode, np.mean(scores_window)), end=\"\")\n",
    "        if i_episode % 100 == 0:\n",
    "            print('\\rEpisode {}\\tAverage Score: {:.2f}'.format(i_episode, np.mean(scores_window)))\n",
    "        if np.mean(scores_window)>=210.0:\n",
    "            print('\\nEnvironment solved in {:d} episodes!\\tAverage Score: {:.2f}'.format(i_episode-100, np.mean(scores_window)))\n",
    "            torch.save(agent.qnetwork_local.state_dict(), 'checkpoint.pth')\n",
    "            break\n",
    "    return scores\n",
    "\n",
    "agent = Agent(state_size=8, action_size=4, seed=0)\n",
    "scores = dqn()"
   ]
  },
  {
   "cell_type": "markdown",
   "id": "1ba6726a-977a-4345-8897-021302bfc262",
   "metadata": {
    "id": "1ba6726a-977a-4345-8897-021302bfc262"
   },
   "source": [
    "### Plot the learning progress"
   ]
  },
  {
   "cell_type": "code",
   "execution_count": 20,
   "id": "d2d491c9-a5dc-4c32-a95d-796f85c60c83",
   "metadata": {
    "id": "d2d491c9-a5dc-4c32-a95d-796f85c60c83"
   },
   "outputs": [
    {
     "ename": "NameError",
     "evalue": "name 'scores' is not defined",
     "output_type": "error",
     "traceback": [
      "\u001b[1;31m---------------------------------------------------------------------------\u001b[0m",
      "\u001b[1;31mNameError\u001b[0m                                 Traceback (most recent call last)",
      "Cell \u001b[1;32mIn[20], line 4\u001b[0m\n\u001b[0;32m      2\u001b[0m fig \u001b[38;5;241m=\u001b[39m plt\u001b[38;5;241m.\u001b[39mfigure()\n\u001b[0;32m      3\u001b[0m ax \u001b[38;5;241m=\u001b[39m fig\u001b[38;5;241m.\u001b[39madd_subplot(\u001b[38;5;241m111\u001b[39m)\n\u001b[1;32m----> 4\u001b[0m plt\u001b[38;5;241m.\u001b[39mplot(np\u001b[38;5;241m.\u001b[39marange(\u001b[38;5;28mlen\u001b[39m(\u001b[43mscores\u001b[49m)), scores)\n\u001b[0;32m      5\u001b[0m plt\u001b[38;5;241m.\u001b[39mylabel(\u001b[38;5;124m'\u001b[39m\u001b[38;5;124mScore\u001b[39m\u001b[38;5;124m'\u001b[39m)\n\u001b[0;32m      6\u001b[0m plt\u001b[38;5;241m.\u001b[39mxlabel(\u001b[38;5;124m'\u001b[39m\u001b[38;5;124mEpisode #\u001b[39m\u001b[38;5;124m'\u001b[39m)\n",
      "\u001b[1;31mNameError\u001b[0m: name 'scores' is not defined"
     ]
    },
    {
     "data": {
      "image/png": "[encoded data removed]",
      "text/plain": [
       "<Figure size 640x480 with 1 Axes>"
      ]
     },
     "metadata": {},
     "output_type": "display_data"
    }
   ],
   "source": [
    "# plot the scores\n",
    "fig = plt.figure()\n",
    "ax = fig.add_subplot(111)\n",
    "plt.plot(np.arange(len(scores)), scores)\n",
    "plt.ylabel('Score')\n",
    "plt.xlabel('Episode #')\n",
    "plt.show()"
   ]
  },
  {
   "cell_type": "code",
   "execution_count": 21,
   "id": "5KR6aEVcaM8I",
   "metadata": {
    "id": "5KR6aEVcaM8I"
   },
   "outputs": [
    {
     "name": "stdout",
     "output_type": "stream",
     "text": [
      "Average Score: -826.80\n"
     ]
    }
   ],
   "source": [
    "#Evaluate:\n",
    "def evaluate(n_episodes=10, max_t=1000):\n",
    "    scores = []\n",
    "    for i_episode in range(1, n_episodes+1):\n",
    "        state, _ = env.reset()\n",
    "        score = 0\n",
    "        for t in range(max_t):\n",
    "            action = agent.act(state, eps=0.0)\n",
    "            next_state, reward, done, _, _ = env.step(action)\n",
    "            state = next_state\n",
    "            score += reward\n",
    "            if done:\n",
    "                break\n",
    "        scores.append(score)\n",
    "    return scores\n",
    "\n",
    "scores = evaluate()\n",
    "print(\"Average Score: {:.2f}\".format(np.mean(scores)))"
   ]
  },
  {
   "cell_type": "code",
   "execution_count": 16,
   "id": "i9HhuP6tLlAh",
   "metadata": {
    "id": "i9HhuP6tLlAh"
   },
   "outputs": [
    {
     "name": "stderr",
     "output_type": "stream",
     "text": [
      "C:\\Users\\HP\\AppData\\Local\\Temp\\ipykernel_8040\\1884947310.py:20: FutureWarning: You are using `torch.load` with `weights_only=False` (the current default value), which uses the default pickle module implicitly. It is possible to construct malicious pickle data which will execute arbitrary code during unpickling (See https://github.com/pytorch/pytorch/blob/main/SECURITY.md#untrusted-models for more details). In a future release, the default value for `weights_only` will be flipped to `True`. This limits the functions that could be executed during unpickling. Arbitrary objects will no longer be allowed to be loaded via this mode unless they are explicitly allowlisted by the user via `torch.serialization.add_safe_globals`. We recommend you start setting `weights_only=True` for any use case where you don't have full control of the loaded file. Please open an issue on GitHub for any issues related to this experimental feature.\n",
      "  agent.qnetwork_local.load_state_dict(torch.load(MODEL_PATH))\n"
     ]
    },
    {
     "name": "stdout",
     "output_type": "stream",
     "text": [
      "Step:  1 , reward -2.100273287106404 , current reward:  -2.100273287106404\n",
      "Step:  2 , reward -2.1423858990045517 , current reward:  -4.242659186110956\n",
      "Step:  3 , reward -2.082078565815806 , current reward:  -6.324737751926762\n",
      "Step:  4 , reward -2.0218398167359055 , current reward:  -8.346577568662667\n",
      "Step:  5 , reward -1.9618274900132064 , current reward:  -10.308405058675874\n",
      "Step:  6 , reward -1.9018658072374421 , current reward:  -12.210270865913316\n",
      "Step:  7 , reward -1.84189494524 , current reward:  -14.052165811153316\n",
      "Step:  8 , reward -1.7819204582172858 , current reward:  -15.834086269370601\n",
      "Step:  9 , reward -1.7219441930523374 , current reward:  -17.55603046242294\n",
      "Step:  10 , reward -1.6619717054909415 , current reward:  -19.21800216791388\n",
      "Step:  11 , reward -1.6019702832550138 , current reward:  -20.819972451168894\n",
      "Step:  12 , reward -1.54199628227542 , current reward:  -22.361968733444314\n",
      "Step:  13 , reward -1.4820064611941461 , current reward:  -23.84397519463846\n",
      "Step:  14 , reward -1.4219888731498713 , current reward:  -25.26596406778833\n",
      "Step:  15 , reward -1.362017834531514 , current reward:  -26.627981902319846\n",
      "Step:  16 , reward -1.3020133472849977 , current reward:  -27.929995249604843\n",
      "Step:  17 , reward -1.2420268489953514 , current reward:  -29.172022098600195\n",
      "Step:  18 , reward -1.1820268983742608 , current reward:  -30.354048996974456\n",
      "Step:  19 , reward -1.122017117189472 , current reward:  -31.476066114163928\n",
      "Step:  20 , reward -1.0620415065998827 , current reward:  -32.53810762076381\n",
      "Step:  21 , reward -1.0020293259032087 , current reward:  -33.54013694666702\n",
      "Step:  22 , reward -0.9420295267446477 , current reward:  -34.48216647341167\n",
      "Step:  23 , reward -0.8820312115462343 , current reward:  -35.3641976849579\n",
      "Step:  24 , reward -0.8220402385101693 , current reward:  -36.18623792346807\n",
      "Step:  25 , reward -0.8552505657083316 , current reward:  -37.0414884891764\n",
      "Step:  26 , reward -0.6996645749118215 , current reward:  -37.74115306408822\n",
      "Step:  27 , reward 5.824724255641468 , current reward:  -31.916428808446756\n",
      "Step:  28 , reward -0.7999647779643908 , current reward:  -32.716393586411144\n",
      "Step:  29 , reward 3.941671190326173 , current reward:  -28.77472239608497\n",
      "Step:  30 , reward 4.386486622085113 , current reward:  -24.38823577399986\n",
      "Step:  31 , reward -0.7750178963808594 , current reward:  -25.16325367038072\n",
      "Step:  32 , reward 1.917010637508423 , current reward:  -23.246243032872297\n",
      "Step:  33 , reward 3.321646901921281 , current reward:  -19.924596130951016\n",
      "Step:  34 , reward 2.4362887067307897 , current reward:  -17.488307424220228\n",
      "Step:  35 , reward 4.016649812715014 , current reward:  -13.471657611505215\n",
      "Step:  36 , reward 1.329371651714905 , current reward:  -12.14228595979031\n",
      "Step:  37 , reward 3.196342610707018 , current reward:  -8.945943349083294\n",
      "Step:  38 , reward 5.0168130251037555 , current reward:  -3.929130323979538\n",
      "Step:  39 , reward 1.6311082056821362 , current reward:  -2.2980221182974017\n",
      "Step:  40 , reward 5.429675399665666 , current reward:  3.1316532813682647\n",
      "Step:  41 , reward 2.2846510754455496 , current reward:  5.416304356813814\n",
      "Step:  42 , reward 5.241070136210436 , current reward:  10.65737449302425\n",
      "Step:  43 , reward -1.2449672228209465 , current reward:  9.412407270203303\n",
      "Step:  44 , reward 0.9446999836215297 , current reward:  10.357107253824832\n",
      "Step:  45 , reward 3.8466378632435694 , current reward:  14.2037451170684\n",
      "Step:  46 , reward 0.9152702439075255 , current reward:  15.119015360975926\n",
      "Step:  47 , reward 2.902229437800213 , current reward:  18.021244798776138\n",
      "Step:  48 , reward 4.671191460406004 , current reward:  22.69243625918214\n",
      "Step:  49 , reward -1.3405640997506783 , current reward:  21.351872159431462\n",
      "Step:  50 , reward 2.501286716204743 , current reward:  23.853158875636204\n",
      "Step:  51 , reward 2.624461726393176 , current reward:  26.47762060202938\n",
      "Step:  52 , reward 4.71035232345329 , current reward:  31.18797292548267\n",
      "Step:  53 , reward 2.2315065753384973 , current reward:  33.41947950082117\n",
      "Step:  54 , reward 2.195759556388393 , current reward:  35.615239057209564\n",
      "Step:  55 , reward 2.248184050926125 , current reward:  37.86342310813569\n",
      "Step:  56 , reward 4.30795781909367 , current reward:  42.171380927229364\n",
      "Step:  57 , reward 4.439505775271511 , current reward:  46.61088670250088\n",
      "Step:  58 , reward 3.7911409955303528 , current reward:  50.40202769803123\n",
      "Step:  59 , reward 0.37927129784777663 , current reward:  50.78129899587901\n",
      "Step:  60 , reward 1.5272453749134882 , current reward:  52.308544370792504\n",
      "Step:  61 , reward 2.642162170661064 , current reward:  54.95070654145357\n",
      "Step:  62 , reward 0.9342607260039955 , current reward:  55.88496726745757\n",
      "Step:  63 , reward 1.0935501893841006 , current reward:  56.97851745684167\n",
      "Step:  64 , reward 2.126192001335011 , current reward:  59.104709458176686\n",
      "Step:  65 , reward 3.004093288980397 , current reward:  62.108802747157085\n",
      "Step:  66 , reward 1.9232315101431936 , current reward:  64.03203425730028\n",
      "Step:  67 , reward 0.07272177212648218 , current reward:  64.10475602942677\n",
      "Step:  68 , reward 2.290312999064523 , current reward:  66.39506902849129\n",
      "Step:  69 , reward 2.414237087083518 , current reward:  68.80930611557481\n",
      "Step:  70 , reward 2.8821352181473374 , current reward:  71.69144133372215\n",
      "Step:  71 , reward -2.3524373971930004 , current reward:  69.33900393652915\n",
      "Step:  72 , reward 0.046117347449734336 , current reward:  69.38512128397889\n",
      "Step:  73 , reward 2.816885646699416 , current reward:  72.20200693067831\n",
      "Step:  74 , reward -2.175439170874455 , current reward:  70.02656775980385\n",
      "Step:  75 , reward 1.6122833349812822 , current reward:  71.63885109478514\n",
      "Step:  76 , reward -2.184951664652317 , current reward:  69.45389943013282\n",
      "Step:  77 , reward 1.9966843235568745 , current reward:  71.4505837536897\n",
      "Step:  78 , reward 0.23503512122802023 , current reward:  71.68561887491772\n",
      "Step:  79 , reward 3.1009910947069814 , current reward:  74.7866099696247\n",
      "Step:  80 , reward -2.2291117758976355 , current reward:  72.55749819372707\n",
      "Step:  81 , reward 0.06797886960737004 , current reward:  72.62547706333444\n",
      "Step:  82 , reward 3.2196937812941373 , current reward:  75.84517084462858\n",
      "Step:  83 , reward -1.6503644209246306 , current reward:  74.19480642370395\n",
      "Step:  84 , reward -0.09151037497250342 , current reward:  74.10329604873145\n",
      "Step:  85 , reward 0.7502707230573378 , current reward:  74.85356677178879\n",
      "Step:  86 , reward 0.2972822344975697 , current reward:  75.15084900628636\n",
      "Step:  87 , reward 3.526576106975793 , current reward:  78.67742511326216\n",
      "Step:  88 , reward -1.8585995331288245 , current reward:  76.81882558013334\n",
      "Step:  89 , reward 3.6598314141674253 , current reward:  80.47865699430076\n",
      "Step:  90 , reward -1.9442890424302135 , current reward:  78.53436795187055\n",
      "Step:  91 , reward 0.3472261172739593 , current reward:  78.88159406914451\n",
      "Step:  92 , reward 3.757882285285871 , current reward:  82.63947635443039\n",
      "Step:  93 , reward -2.101063431243645 , current reward:  80.53841292318674\n",
      "Step:  94 , reward -2.081039719396159 , current reward:  78.45737320379058\n",
      "Step:  95 , reward 1.4888262063297375 , current reward:  79.94619941012031\n",
      "Step:  96 , reward 4.02886860664474 , current reward:  83.97506801676505\n",
      "Step:  97 , reward -2.323647360020658 , current reward:  81.65142065674439\n",
      "Step:  98 , reward 3.7881389071474816 , current reward:  85.43955956389188\n",
      "Step:  99 , reward -2.351914788088024 , current reward:  83.08764477580385\n",
      "Step:  100 , reward -2.3067687015652183 , current reward:  80.78087607423863\n",
      "Step:  101 , reward 1.9520720530362226 , current reward:  82.73294812727485\n",
      "Step:  102 , reward 1.5342822092658863 , current reward:  84.26723033654073\n",
      "Step:  103 , reward -2.2880160233278275 , current reward:  81.9792143132129\n",
      "Step:  104 , reward 3.5041684077039195 , current reward:  85.48338272091682\n",
      "Step:  105 , reward -2.235640996441731 , current reward:  83.24774172447509\n",
      "Step:  106 , reward 0.060505545667528804 , current reward:  83.30824727014262\n",
      "Step:  107 , reward -0.4344842318861268 , current reward:  82.87376303825648\n",
      "Step:  108 , reward 3.974117729088083 , current reward:  86.84788076734456\n",
      "Step:  109 , reward -2.0804821174217807 , current reward:  84.76739864992278\n",
      "Step:  110 , reward -2.0966556273555312 , current reward:  82.67074302256725\n",
      "Step:  111 , reward 2.8274624550617675 , current reward:  85.49820547762901\n",
      "Step:  112 , reward -2.0850358105265343 , current reward:  83.41316966710248\n",
      "Step:  113 , reward 1.57441555914247 , current reward:  84.98758522624495\n",
      "Step:  114 , reward 3.5623819269268866 , current reward:  88.54996715317183\n",
      "Step:  115 , reward -2.067391157718241 , current reward:  86.4825759954536\n",
      "Step:  116 , reward -2.100276572241448 , current reward:  84.38229942321215\n",
      "Step:  117 , reward 2.362865343873108 , current reward:  86.74516476708526\n",
      "Step:  118 , reward -2.1776139042029996 , current reward:  84.56755086288226\n",
      "Step:  119 , reward 2.7167400461076427 , current reward:  87.2842909089899\n",
      "Step:  120 , reward -2.134990927929877 , current reward:  85.14929998106003\n",
      "Step:  121 , reward 3.201284611640479 , current reward:  88.3505845927005\n",
      "Step:  122 , reward -2.1813127476459115 , current reward:  86.1692718450546\n",
      "Step:  123 , reward 0.3670294315802181 , current reward:  86.53630127663482\n",
      "Step:  124 , reward 3.1531616800005837 , current reward:  89.6894629566354\n",
      "Step:  125 , reward -2.167577528255123 , current reward:  87.52188542838027\n",
      "Step:  126 , reward 1.6509736723229949 , current reward:  89.17285910070326\n",
      "Step:  127 , reward -2.3157005336121017 , current reward:  86.85715856709116\n",
      "Step:  128 , reward 2.9285327576220554 , current reward:  89.78569132471321\n",
      "Step:  129 , reward -2.3265061459216696 , current reward:  87.45918517879154\n",
      "Step:  130 , reward 1.2561703247194316 , current reward:  88.71535550351098\n",
      "Step:  131 , reward -0.1690561345396901 , current reward:  88.54629936897129\n",
      "Step:  132 , reward -1.9614081875945928 , current reward:  86.58489118137669\n",
      "Step:  133 , reward 0.5362683305750948 , current reward:  87.12115951195179\n",
      "Step:  134 , reward 1.563727984277716 , current reward:  88.6848874962295\n",
      "Step:  135 , reward -1.706651805050285 , current reward:  86.97823569117922\n",
      "Step:  136 , reward 1.684446401025309 , current reward:  88.66268209220453\n",
      "Step:  137 , reward -1.8160206531380751 , current reward:  86.84666143906645\n",
      "Step:  138 , reward 1.3545176796554486 , current reward:  88.2011791187219\n",
      "Step:  139 , reward -1.6869912176371429 , current reward:  86.51418790108475\n",
      "Step:  140 , reward 3.4135201846603183 , current reward:  89.92770808574507\n",
      "Step:  141 , reward -1.8107633659092315 , current reward:  88.11694471983583\n",
      "Step:  142 , reward 0.1889211791521433 , current reward:  88.30586589898797\n",
      "Step:  143 , reward -1.702254264423594 , current reward:  86.60361163456437\n",
      "Step:  144 , reward 1.5809641185141359 , current reward:  88.1845757530785\n",
      "Step:  145 , reward -1.644142238582745 , current reward:  86.54043351449576\n",
      "Step:  146 , reward 1.548438549153485 , current reward:  88.08887206364925\n",
      "Step:  147 , reward -1.4528235900994133 , current reward:  86.63604847354983\n",
      "Step:  148 , reward 1.3324794202904087 , current reward:  87.96852789384025\n",
      "Step:  149 , reward 2.096088957105704 , current reward:  90.06461685094595\n",
      "Step:  150 , reward 1.2249945535617328 , current reward:  91.28961140450768\n",
      "Step:  151 , reward -1.7916944547304041 , current reward:  89.49791694977728\n",
      "Step:  152 , reward -1.9461514226121892 , current reward:  87.55176552716509\n",
      "Step:  153 , reward 1.7647637254502413 , current reward:  89.31652925261533\n",
      "Step:  154 , reward 0.9207598043904113 , current reward:  90.23728905700574\n",
      "Step:  155 , reward -1.9253661914889406 , current reward:  88.3119228655168\n",
      "Step:  156 , reward -0.18458696699282057 , current reward:  88.12733589852398\n",
      "Step:  157 , reward 3.118955857256066 , current reward:  91.24629175578005\n",
      "Step:  158 , reward -0.9559338054817517 , current reward:  90.2903579502983\n",
      "Step:  159 , reward -1.9250702036372473 , current reward:  88.36528774666105\n",
      "Step:  160 , reward 1.4825958955495266 , current reward:  89.84788364221058\n",
      "Step:  161 , reward -1.7917679992165603 , current reward:  88.05611564299402\n",
      "Step:  162 , reward 1.5276325782283109 , current reward:  89.58374822122232\n",
      "Step:  163 , reward -1.650559183510012 , current reward:  87.93318903771231\n",
      "Step:  164 , reward -1.8696555343536474 , current reward:  86.06353350335866\n",
      "Step:  165 , reward 1.4255197637142671 , current reward:  87.48905326707292\n",
      "Step:  166 , reward 2.046174344198609 , current reward:  89.53522761127152\n",
      "Step:  167 , reward -0.31964194963850473 , current reward:  89.21558566163301\n",
      "Step:  168 , reward -1.8212347556178088 , current reward:  87.3943509060152\n",
      "Step:  169 , reward 1.1456159458729445 , current reward:  88.53996685188815\n",
      "Step:  170 , reward -1.6746548438644169 , current reward:  86.86531200802374\n",
      "Step:  171 , reward -1.909617158688249 , current reward:  84.95569484933549\n",
      "Step:  172 , reward 1.739743299724435 , current reward:  86.69543814905992\n",
      "Step:  173 , reward 2.045172737835519 , current reward:  88.74061088689544\n",
      "Step:  174 , reward -2.2559962602144865 , current reward:  86.48461462668095\n",
      "Step:  175 , reward -1.3393089161700218 , current reward:  85.14530571051093\n",
      "Step:  176 , reward -1.78334110386794 , current reward:  83.36196460664299\n",
      "Step:  177 , reward 2.1438703852384764 , current reward:  85.50583499188146\n",
      "Step:  178 , reward 1.7418501018046058 , current reward:  87.24768509368606\n",
      "Step:  179 , reward 0.23960061329222243 , current reward:  87.48728570697828\n",
      "Step:  180 , reward 1.506895008891793 , current reward:  88.99418071587007\n",
      "Step:  181 , reward -1.3411715854787545 , current reward:  87.65300913039133\n",
      "Step:  182 , reward -2.2832236158342014 , current reward:  85.36978551455712\n",
      "Step:  183 , reward 0.4555362084554602 , current reward:  85.82532172301258\n",
      "Step:  184 , reward -1.544365186065498 , current reward:  84.28095653694709\n",
      "Step:  185 , reward 0.5845707129747708 , current reward:  84.86552724992185\n",
      "Step:  186 , reward 1.310708468146683 , current reward:  86.17623571806854\n",
      "Step:  187 , reward -0.05469466840950615 , current reward:  86.12154104965903\n",
      "Step:  188 , reward -1.6095891020954483 , current reward:  84.51195194756357\n",
      "Step:  189 , reward 2.9422354354791027 , current reward:  87.45418738304268\n",
      "Step:  190 , reward 2.8063474522085317 , current reward:  90.2605348352512\n",
      "Step:  191 , reward -1.4806393975862449 , current reward:  88.77989543766496\n",
      "Step:  192 , reward 3.258432799704825 , current reward:  92.03832823736978\n",
      "Step:  193 , reward -1.6247499695250767 , current reward:  90.41357826784471\n",
      "Step:  194 , reward 2.4869959390925844 , current reward:  92.90057420693729\n",
      "Step:  195 , reward -1.6759076146095495 , current reward:  91.22466659232774\n",
      "Step:  196 , reward 1.3165204854452213 , current reward:  92.54118707777296\n",
      "Step:  197 , reward 1.9826925943928628 , current reward:  94.52387967216582\n",
      "Step:  198 , reward -1.7661737334275642 , current reward:  92.75770593873825\n",
      "Step:  199 , reward 4.534142620895818 , current reward:  97.29184855963408\n",
      "Step:  200 , reward -1.9565025816869692 , current reward:  95.3353459779471\n",
      "Step:  201 , reward 2.3305735591995687 , current reward:  97.66591953714666\n",
      "Step:  202 , reward 0.8957026962934982 , current reward:  98.56162223344016\n",
      "Step:  203 , reward -2.185984407648924 , current reward:  96.37563782579124\n",
      "Step:  204 , reward 0.09710671250781006 , current reward:  96.47274453829905\n",
      "Step:  205 , reward 0.44216150106430235 , current reward:  96.91490603936336\n",
      "Step:  206 , reward -1.8730353193692224 , current reward:  95.04187071999414\n",
      "Step:  207 , reward -1.897818395432715 , current reward:  93.14405232456141\n",
      "Step:  208 , reward 1.0453965153136913 , current reward:  94.18944883987511\n",
      "Step:  209 , reward 1.4196471983536056 , current reward:  95.60909603822871\n",
      "Step:  210 , reward -2.8355886679100983 , current reward:  92.77350737031861\n",
      "Step:  211 , reward 3.272833889970795 , current reward:  96.04634126028941\n",
      "Step:  212 , reward -2.8229556354037513 , current reward:  93.22338562488565\n",
      "Step:  213 , reward 1.2382366417245485 , current reward:  94.4616222666102\n",
      "Step:  214 , reward -0.6955256779627235 , current reward:  93.76609658864749\n",
      "Step:  215 , reward 1.687103043481735 , current reward:  95.45319963212923\n",
      "Step:  216 , reward 3.2596501351114933 , current reward:  98.71284976724073\n",
      "Step:  217 , reward -2.9806636946616116 , current reward:  95.73218607257911\n",
      "Step:  218 , reward 1.281990796694523 , current reward:  97.01417686927364\n",
      "Step:  219 , reward -1.6143401372999335 , current reward:  95.3998367319737\n",
      "Step:  220 , reward -3.035839801292321 , current reward:  92.36399693068138\n",
      "Step:  221 , reward 0.711445742158962 , current reward:  93.07544267284034\n",
      "Step:  222 , reward -2.631715469220618 , current reward:  90.44372720361972\n",
      "Step:  223 , reward -2.115735108709586 , current reward:  88.32799209491013\n",
      "Step:  224 , reward 3.294504066344005 , current reward:  91.62249616125413\n",
      "Step:  225 , reward 2.80057082591025 , current reward:  94.42306698716439\n",
      "Step:  226 , reward -2.5906031189768286 , current reward:  91.83246386818756\n",
      "Step:  227 , reward 3.6690923716586896 , current reward:  95.50155623984625\n",
      "Step:  228 , reward -2.1170218565875722 , current reward:  93.38453438325868\n",
      "Step:  229 , reward 2.586687129684745 , current reward:  95.97122151294343\n",
      "Step:  230 , reward -1.9323742359460354 , current reward:  94.03884727699739\n",
      "Step:  231 , reward 0.9126851074014268 , current reward:  94.95153238439882\n",
      "Step:  232 , reward -1.9237015737089098 , current reward:  93.0278308106899\n",
      "Step:  233 , reward 2.150710615639402 , current reward:  95.1785414263293\n",
      "Step:  234 , reward -2.2177355392044973 , current reward:  92.9608058871248\n",
      "Step:  235 , reward 1.5957895444718069 , current reward:  94.55659543159662\n",
      "Step:  236 , reward -2.0200593549419636 , current reward:  92.53653607665466\n",
      "Step:  237 , reward -2.2021473628418597 , current reward:  90.3343887138128\n",
      "Step:  238 , reward 1.319476979834566 , current reward:  91.65386569364736\n",
      "Step:  239 , reward -2.210148390594348 , current reward:  89.443717303053\n",
      "Step:  240 , reward 2.126744268350426 , current reward:  91.57046157140343\n",
      "Step:  241 , reward 0.8454100122093962 , current reward:  92.41587158361283\n",
      "Step:  242 , reward -2.2308175731804383 , current reward:  90.1850540104324\n",
      "Step:  243 , reward 2.4505548316752703 , current reward:  92.63560884210767\n",
      "Step:  244 , reward 3.3467790359844303 , current reward:  95.9823878780921\n",
      "Step:  245 , reward -2.2334363563387605 , current reward:  93.74895152175334\n",
      "Step:  246 , reward 2.651461049208824 , current reward:  96.40041257096216\n",
      "Step:  247 , reward -2.285267265561888 , current reward:  94.11514530540028\n",
      "Step:  248 , reward 1.7295831624875653 , current reward:  95.84472846788785\n",
      "Step:  249 , reward -2.352076916139268 , current reward:  93.49265155174858\n",
      "Step:  250 , reward 1.4929830148653067 , current reward:  94.98563456661388\n",
      "Step:  251 , reward 3.334736940634831 , current reward:  98.32037150724871\n",
      "Step:  252 , reward -2.2902229467219506 , current reward:  96.03014856052675\n",
      "Step:  253 , reward -2.3328239319343 , current reward:  93.69732462859245\n",
      "Step:  254 , reward 1.8538497458032352 , current reward:  95.55117437439569\n",
      "Step:  255 , reward -2.1372613401865763 , current reward:  93.41391303420912\n",
      "Step:  256 , reward 2.4379334720596413 , current reward:  95.85184650626876\n",
      "Step:  257 , reward -2.2115628751820395 , current reward:  93.64028363108672\n",
      "Step:  258 , reward -0.2798183206877198 , current reward:  93.360465310399\n",
      "Step:  259 , reward 1.4813227427132538 , current reward:  94.84178805311225\n",
      "Step:  260 , reward 1.2894801011720574 , current reward:  96.13126815428431\n",
      "Step:  261 , reward -2.682304521112826 , current reward:  93.44896363317149\n",
      "Step:  262 , reward 0.5824589954434678 , current reward:  94.03142262861496\n",
      "Step:  263 , reward 1.0681932088032837 , current reward:  95.09961583741824\n",
      "Step:  264 , reward -2.707582307989565 , current reward:  92.39203352942867\n",
      "Step:  265 , reward 0.7612113144453978 , current reward:  93.15324484387408\n",
      "Step:  266 , reward 3.2873298622527374 , current reward:  96.44057470612681\n",
      "Step:  267 , reward -2.6600823990708378 , current reward:  93.78049230705597\n",
      "Step:  268 , reward -2.7420710665335477 , current reward:  91.03842124052241\n",
      "Step:  269 , reward 1.6993204669179647 , current reward:  92.73774170744038\n",
      "Step:  270 , reward -0.16572929069718184 , current reward:  92.57201241674319\n",
      "Step:  271 , reward -2.6104278453192364 , current reward:  89.96158457142396\n",
      "Step:  272 , reward 1.778862530613783 , current reward:  91.74044710203773\n",
      "Step:  273 , reward -2.5295250780196135 , current reward:  89.21092202401812\n",
      "Step:  274 , reward -0.5845427104119552 , current reward:  88.62637931360617\n",
      "Step:  275 , reward -2.626288971225872 , current reward:  86.00009034238029\n",
      "Step:  276 , reward 2.1182423677964275 , current reward:  88.11833271017672\n",
      "Step:  277 , reward -2.6332137658082466 , current reward:  85.48511894436847\n",
      "Step:  278 , reward 0.4247329896170882 , current reward:  85.90985193398555\n",
      "Step:  279 , reward 1.844876600096481 , current reward:  87.75472853408203\n",
      "Step:  280 , reward -2.6790819430663135 , current reward:  85.07564659101573\n",
      "Step:  281 , reward -2.3234930359818904 , current reward:  82.75215355503383\n",
      "Step:  282 , reward 0.25591265922583234 , current reward:  83.00806621425966\n",
      "Step:  283 , reward 3.4555241576623006 , current reward:  86.46359037192195\n",
      "Step:  284 , reward -2.6834299082705777 , current reward:  83.78016046365137\n",
      "Step:  285 , reward 2.0535662708178615 , current reward:  85.83372673446924\n",
      "Step:  286 , reward -2.067442012705591 , current reward:  83.76628472176364\n",
      "Step:  287 , reward 1.9985865749783407 , current reward:  85.76487129674199\n",
      "Step:  288 , reward -2.4498932219913456 , current reward:  83.31497807475064\n",
      "Step:  289 , reward 0.9078373028642452 , current reward:  84.2228153776149\n",
      "Step:  290 , reward 1.7590896666947848 , current reward:  85.98190504430968\n",
      "Step:  291 , reward -2.5270816658141975 , current reward:  83.45482337849549\n",
      "Step:  292 , reward 1.2590634457147096 , current reward:  84.7138868242102\n",
      "Step:  293 , reward -2.0179255473221027 , current reward:  82.6959612768881\n",
      "Step:  294 , reward 1.9190908935465145 , current reward:  84.61505217043461\n",
      "Step:  295 , reward 0.5290270047668215 , current reward:  85.14407917520143\n",
      "Step:  296 , reward 3.9088459514087477 , current reward:  89.05292512661018\n",
      "Step:  297 , reward -1.568425956811217 , current reward:  87.48449916979897\n",
      "Step:  298 , reward -2.0928701276933808 , current reward:  85.39162904210559\n",
      "Step:  299 , reward 1.1518199363009074 , current reward:  86.5434489784065\n",
      "Step:  300 , reward 0.9914760728183729 , current reward:  87.53492505122487\n",
      "Step:  301 , reward -1.7238162567851454 , current reward:  85.81110879443973\n",
      "Step:  302 , reward 0.22142974945436295 , current reward:  86.03253854389409\n",
      "Step:  303 , reward 1.5680494485482483 , current reward:  87.60058799244234\n",
      "Step:  304 , reward -0.4492012745975227 , current reward:  87.15138671784482\n",
      "Step:  305 , reward -1.379667951421883 , current reward:  85.77171876642294\n",
      "Step:  306 , reward 1.3690081913947345 , current reward:  87.14072695781768\n",
      "Step:  307 , reward -3.2022451510586394 , current reward:  83.93848180675904\n",
      "Step:  308 , reward 0.35147251031752874 , current reward:  84.28995431707658\n",
      "Step:  309 , reward -0.43014463057070457 , current reward:  83.85980968650587\n",
      "Step:  310 , reward 1.2454397025592108 , current reward:  85.10524938906508\n",
      "Step:  311 , reward -2.9185525854712773 , current reward:  82.1866968035938\n",
      "Step:  312 , reward -2.8486315652740424 , current reward:  79.33806523831976\n",
      "Step:  313 , reward 0.20468037104896625 , current reward:  79.54274560936872\n",
      "Step:  314 , reward -2.5100948471104645 , current reward:  77.03265076225826\n",
      "Step:  315 , reward 0.5495223434300243 , current reward:  77.58217310568828\n",
      "Step:  316 , reward 1.2980756572885077 , current reward:  78.88024876297679\n",
      "Step:  317 , reward -2.4664356503514306 , current reward:  76.41381311262536\n",
      "Step:  318 , reward 2.0938045327674617 , current reward:  78.50761764539283\n",
      "Step:  319 , reward -1.0097805307468082 , current reward:  77.49783711464602\n",
      "Step:  320 , reward 2.8242725572732583 , current reward:  80.32210967191928\n",
      "Step:  321 , reward 2.025644959923423 , current reward:  82.3477546318427\n",
      "Step:  322 , reward -1.490741172986726 , current reward:  80.85701345885597\n",
      "Step:  323 , reward 1.1275952149628565 , current reward:  81.98460867381883\n"
     ]
    },
    {
     "name": "stderr",
     "output_type": "stream",
     "text": [
      "IMAGEIO FFMPEG_WRITER WARNING: input image is not divisible by macro_block_size=16, resizing from (600, 400) to (608, 400) to ensure video compatibility with most codecs and players. To prevent resizing, make your input image divisible by the macro_block_size or set the macro_block_size to 1 (risking incompatibility).\n"
     ]
    },
    {
     "name": "stdout",
     "output_type": "stream",
     "text": [
      "Step:  324 , reward -2.712669749800716 , current reward:  79.27193892401812\n",
      "Step:  325 , reward 1.4816504708424751 , current reward:  80.7535893948606\n",
      "Step:  326 , reward -0.14343056629715462 , current reward:  80.61015882856344\n",
      "Step:  327 , reward 9.315234108949296 , current reward:  89.92539293751274\n",
      "Step:  328 , reward 3.65803471993489 , current reward:  93.58342765744763\n",
      "Step:  329 , reward -10.133365809782173 , current reward:  83.45006184766545\n",
      "Step:  330 , reward 2.652642585866251 , current reward:  86.1027044335317\n",
      "Step:  331 , reward 0.9962412795195281 , current reward:  87.09894571305122\n",
      "Step:  332 , reward -0.553351943814923 , current reward:  86.5455937692363\n",
      "Step:  333 , reward 0.6892260159169925 , current reward:  87.23481978515329\n",
      "Step:  334 , reward -2.5176118115688166 , current reward:  84.71720797358448\n",
      "Step:  335 , reward 15.734478933964976 , current reward:  100.45168690754946\n",
      "Step:  336 , reward 12.203527975045073 , current reward:  112.65521488259454\n",
      "Step:  337 , reward -0.03688446742481588 , current reward:  112.61833041516972\n",
      "Step:  338 , reward 0.04510430379733066 , current reward:  112.66343471896705\n",
      "Step:  339 , reward -0.18222148897228507 , current reward:  112.48121322999476\n",
      "Step:  340 , reward 0.33646434440474593 , current reward:  112.81767757439951\n",
      "Step:  341 , reward -0.002831636144978944 , current reward:  112.81484593825454\n",
      "Step:  342 , reward 0.001612578942379983 , current reward:  112.81645851719692\n",
      "Step:  343 , reward 0.008656578531720527 , current reward:  112.82511509572865\n",
      "Step:  344 , reward -0.27293535070644204 , current reward:  112.5521797450222\n",
      "Step:  345 , reward 0.3276235768900868 , current reward:  112.87980332191229\n",
      "Step:  346 , reward 0.018673318129369676 , current reward:  112.89847664004166\n",
      "Step:  347 , reward -2.3680299179318354e-05 , current reward:  112.89845295974249\n",
      "Step:  348 , reward 0.0002902911072730774 , current reward:  112.89874325084976\n",
      "Step:  349 , reward 0.0030177183430879495 , current reward:  112.90176096919285\n",
      "Step:  350 , reward 0.0007166507327482918 , current reward:  112.9024776199256\n",
      "Step:  351 , reward -0.00023415897576839484 , current reward:  112.90224346094983\n",
      "Step:  352 , reward 0.0004568969540130752 , current reward:  112.90270035790385\n",
      "Step:  353 , reward 0.00028788427600900945 , current reward:  112.90298824217986\n",
      "Step:  354 , reward -0.00010248695842030031 , current reward:  112.90288575522143\n",
      "Step:  355 , reward 5.501035218458128e-05 , current reward:  112.90294076557362\n",
      "Step:  356 , reward 6.272135639484588e-05 , current reward:  112.90300348693002\n",
      "Step:  357 , reward -1.867911283426338e-05 , current reward:  112.90298480781718\n",
      "Step:  358 , reward 2.3513486731019384e-06 , current reward:  112.90298715916585\n",
      "Step:  359 , reward 8.636769891268159e-06 , current reward:  112.90299579593574\n",
      "Step:  360 , reward 3.4868484064531913e-06 , current reward:  112.90299928278415\n",
      "Step:  361 , reward -4.803856308299714e-06 , current reward:  112.90299447892784\n",
      "Step:  362 , reward -1.1023271593302297e-06 , current reward:  112.90299337660068\n",
      "Step:  363 , reward 9.656180548489601e-07 , current reward:  112.90299434221873\n",
      "Step:  364 , reward 1.4197346001054711e-06 , current reward:  112.90299576195333\n",
      "Step:  365 , reward -3.7791832099287603e-06 , current reward:  112.90299198277012\n",
      "Step:  366 , reward -2.594896564289684e-07 , current reward:  112.90299172328046\n",
      "Step:  367 , reward 1.398628839410776e-07 , current reward:  112.90299186314334\n",
      "Step:  368 , reward 7.153055019415433e-07 , current reward:  112.90299257844885\n",
      "Step:  369 , reward 100 , current reward:  212.90299257844885\n",
      "Video saved as lunar_lander_solution_5.mp4\n"
     ]
    }
   ],
   "source": [
    "import gymnasium as gym\n",
    "import torch\n",
    "import imageio\n",
    "import numpy as np\n",
    "# Ensure your Agent class and dependencies are properly imported\n",
    "\n",
    "# Define constants\n",
    "ENV_NAME = \"LunarLander-v3\"\n",
    "MODEL_PATH = \"checkpoint.pth\"  # Path to your saved model\n",
    "VIDEO_FILENAME = \"lunar_lander_solution_5.mp4\"\n",
    "EPISODES = 1  # Number of episodes to record\n",
    "\n",
    "# Initialize environment and agent\n",
    "env = gym.make(ENV_NAME, render_mode=\"rgb_array\")\n",
    "state_size = env.observation_space.shape[0]\n",
    "action_size = env.action_space.n\n",
    "agent = Agent(state_size, action_size, seed=0)\n",
    "\n",
    "# Load the trained weights\n",
    "agent.qnetwork_local.load_state_dict(torch.load(MODEL_PATH))\n",
    "\n",
    "frames = []  # Store video frames\n",
    "\n",
    "history = []\n",
    "\n",
    "# Run the environment\n",
    "total=0\n",
    "frame_counter=0\n",
    "for _ in range(EPISODES):\n",
    "    state, _ = env.reset()\n",
    "    done = False\n",
    "    while not done:\n",
    "        action = agent.act(state, eps=0.0)  # Use the trained policy\n",
    "        state, reward, done, truncated, _ = env.step(action)\n",
    "        # Capture the frame\n",
    "        frame = env.render()\n",
    "        frames.append(frame)\n",
    "        total += reward\n",
    "        frame_counter += 1\n",
    "        history.append(total)\n",
    "        print(\"Step: \", frame_counter, \", reward\", reward, \", current reward: \", total)\n",
    "\n",
    "# Save video using imageio\n",
    "imageio.mimsave(VIDEO_FILENAME, frames, fps=30)\n",
    "print(f\"Video saved as {VIDEO_FILENAME}\")\n",
    "\n",
    "# Close the environment\n",
    "env.close()\n"
   ]
  },
  {
   "cell_type": "code",
   "execution_count": 17,
   "id": "WTOMhHN-NWer",
   "metadata": {
    "id": "WTOMhHN-NWer"
   },
   "outputs": [
    {
     "data": {
      "text/plain": [
       "[<matplotlib.lines.Line2D at 0x1ac1ff05a90>]"
      ]
     },
     "execution_count": 17,
     "metadata": {},
     "output_type": "execute_result"
    },
    {
     "data": {
      "image/png": "[encoded data removed]",
      "text/plain": [
       "<Figure size 640x480 with 1 Axes>"
      ]
     },
     "metadata": {},
     "output_type": "display_data"
    }
   ],
   "source": [
    "plt.plot(history)"
   ]
  },
  {
   "cell_type": "code",
   "execution_count": null,
   "id": "742edc36",
   "metadata": {},
   "outputs": [],
   "source": []
  }
 ],
 "metadata": {
  "colab": {
   "provenance": [],
   "toc_visible": true
  },
  "kernelspec": {
   "display_name": "Python 3",
   "language": "python",
   "name": "python3"
  },
  "language_info": {
   "codemirror_mode": {
    "name": "ipython",
    "version": 3
   },
   "file_extension": ".py",
   "mimetype": "text/x-python",
   "name": "python",
   "nbconvert_exporter": "python",
   "pygments_lexer": "ipython3",
   "version": "3.12.5"
  }
 },
 "nbformat": 4,
 "nbformat_minor": 5
}
